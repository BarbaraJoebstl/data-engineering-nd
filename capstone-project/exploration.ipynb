{
 "cells": [
  {
   "cell_type": "markdown",
   "metadata": {},
   "source": [
    "### Explore Data"
   ]
  },
  {
   "cell_type": "code",
   "execution_count": null,
   "metadata": {},
   "outputs": [],
   "source": [
    "import pandas as pd"
   ]
  },
  {
   "cell_type": "markdown",
   "metadata": {},
   "source": [
    "### Immigration data"
   ]
  },
  {
   "cell_type": "code",
   "execution_count": null,
   "metadata": {},
   "outputs": [],
   "source": [
    "fname = 'data/immigration_data_sample.csv'\n",
    "df_immigrant = pd.read_csv(fname)\n",
    "df_immigrant.head()"
   ]
  },
  {
   "cell_type": "code",
   "execution_count": null,
   "metadata": {},
   "outputs": [],
   "source": [
    "df_immigrant.columns"
   ]
  },
  {
   "cell_type": "markdown",
   "metadata": {},
   "source": [
    "### Immigrant data column descriptions, lists see I94_SAS_Labels_Descriptions.SAS\n",
    "\n",
    "\n",
    "| column name| description | type | is used by CIC | personal observations for ETL | \n",
    "| --- | --- | --- | --- | --- | \n",
    "| cicid |  unique number for the immigrants | int | true | might be primary key  | \n",
    "| i94yr | 4 digit year  | float  | true | use int  | \n",
    "| i94mon | numeric month | float |true  | use int  | \n",
    "| i94cit | 3 digit code of origin city | float | true | use int, if empty remove line, quality check for valid code according to list  in .sas file | \n",
    "| i94res | 3 digit code from country from where one has travelled. | float |true | use int, if empty remove line, quality check for valid code according to list  in .sas file  | \n",
    "| i94port | 3 character code of destination USA city | varchar  | true | use int, if empty remove line, quality check for valid code according to list  in .sas file |  \n",
    "| arrdate | date of arrrival in U.S.A | SAS date numeric   | true | It is a SAS date numeric field that a permament format has not been applied.  Please apply whichever date format works for you.   | \n",
    "| i94mode | travel code (transportation) | 1 digit | true | 1 = 'Air' 2 = 'Sea' 3 = 'Land' 9 = 'Not reported'  | \n",
    "| i94addr | ??? | two digit | true | There is lots of invalid codes in this variable and the list below shows what we have found to be valid, everything else goes into 'other', not sure if we should use it | \n",
    "| depdate | the Departure Date from the USA | SAS numeric field |true | Please apply whichever date format | \n",
    "|i94bir  |Age of Respondent in Years  | float |true  | use int | \n",
    "| i94visa | Visa codes collapsed into three categories | 1 char | true | 1 = Business 2 = Pleasure 3 = Student | \n",
    "| count|Used for summary statistics | int | true | not sure if needed |\n",
    "|dtadfile |Character Date Field - Date added to I-94 Files | |false | |\n",
    "| visapost| Department of State where where Visa was issued | |false | |\n",
    "| occup|Occupation that will be performed in U.S. | |false | |\n",
    "| entdepa| Arrival Flag - admitted or paroled into the U.S. | |false | |\n",
    "|entdepd |Departure Flag - Departed, lost I-94 or is deceased  | | false| |\n",
    "|entdepu|Update Flag - Either apprehended, overstayed, adjusted to perm residence||false| |\n",
    "|matflag|Match flag - Match of arrival and departure records| 1 char|true| not sure if needed |\n",
    "|biryear | year of birth| 4 digit|true||\n",
    "|dtaddto|Character Date Field - Date to which admitted to U.S. (allowed to stay until)||false||\n",
    "|gender| Non-immigrant sex |1 digit|true||\n",
    "|insnum|INS number|number|true|check how many NaN, and if to skip whole column|\n",
    "|airline|Airline used to arrive in U.S|varchar|true|check how many NaN, and if to skip whole column|\n",
    "|admnum| Admission Number ||true| find out what this is|\n",
    "|fltno| Flight number of Airline used to arrive in U.S|varchar|true||\n",
    "|visatype| Class of admission legally admitting the non-immigrant to temporarily stay in U.S.||||\n",
    "\n",
    "\n",
    "\"CIC does not use\" means that the column has not been used by CIC for analysis. \n",
    "This could be interpreted in multiple ways. One interpretation is probably the data are not as clean as those from other columns.\n",
    "So we will not takeover this data."
   ]
  },
  {
   "cell_type": "code",
   "execution_count": null,
   "metadata": {},
   "outputs": [],
   "source": [
    "print('number of rows:', len(df_immigrant))\n",
    "df_immigrant.describe"
   ]
  },
  {
   "cell_type": "code",
   "execution_count": null,
   "metadata": {},
   "outputs": [],
   "source": [
    "df_immigrant.groupby(['biryear'])[['i94yr']].count()"
   ]
  },
  {
   "cell_type": "markdown",
   "metadata": {},
   "source": [
    "## Demographics"
   ]
  },
  {
   "cell_type": "code",
   "execution_count": null,
   "metadata": {},
   "outputs": [],
   "source": [
    "fname = 'data/us-cities-demographics.csv'\n",
    "df_demographics = pd.read_csv(fname, delimiter=';')\n",
    "df_demographics.head()"
   ]
  },
  {
   "cell_type": "code",
   "execution_count": null,
   "metadata": {},
   "outputs": [],
   "source": [
    "print(df_demographics.columns)\n",
    "df_demographics.count()"
   ]
  },
  {
   "cell_type": "markdown",
   "metadata": {},
   "source": [
    "### Demographics data column descriptions\n",
    "\n",
    "\n",
    "| column name| description | type |personal observations for ETL | \n",
    "| --- | --- | --- | --- |\n",
    "| City | name of the city| varchar | | \n",
    "| State | name of the state| varchar | | \n",
    "| Median Age| median age|float||\n",
    "| Male population|number of male poppulation|float| use int|\n",
    "| Female population|number of femal population| float| use int|\n",
    "|Total population |total population| int| maybe qa check for sum of male and female|\n",
    "|Number of Veterans|number of veterans| float| can be int, but not needed for immigration data analytics|\n",
    "|Foreign-born| foreign born| float| use int|\n",
    "|Average household size |average household size| float||\n",
    "|State code | state code| varchar| american states, maybe important for dim_location |\n",
    "|Race| race| string ||\n",
    "|Count|???| int| maybe some count from other analysis, can be skipped |\n"
   ]
  },
  {
   "cell_type": "markdown",
   "metadata": {},
   "source": [
    "## Airport codes"
   ]
  },
  {
   "cell_type": "code",
   "execution_count": null,
   "metadata": {},
   "outputs": [],
   "source": [
    "fname = 'data/airport-codes_csv.csv'\n",
    "df_airport_codes = pd.read_csv(fname)\n",
    "print(df_airport_codes.head(20))\n",
    "\n",
    "print('total length:', len(df_airport_codes))\n"
   ]
  },
  {
   "cell_type": "markdown",
   "metadata": {},
   "source": [
    "### Airport data data column descriptions\n",
    "\n",
    "| column name| description | type |personal observations for ETL | \n",
    "| --- | --- | --- | --- |\n",
    "|  ident| unique identifier of airport | Varchar |  |\n",
    "| type | type of airport  | varchar | could be enum:   heliport, small_airport, medium_airport, closed |\n",
    "| name | name of airport | varchar |  |\n",
    "| elevation_ft| elevation in feet | float |  |\n",
    "| continent | varchar |  | a lot of NaN, maybe skip this column  |\n",
    "| iso_country | country iso |varchar  |  2 chars|\n",
    "| iso_region | region iso | varchar |  pattern XX-XX|\n",
    "| municipality |  municipality | string |  |\n",
    "| gps_code | gps code |  short varchar | check for NaN  |\n",
    "| iata_code | iata code |  | as there are a lot of NaN, we will skip this |\n",
    "| local_code |  |  |  also a lot of NaN, see if should be skipped|\n",
    "| coordinates | len and lat  | float, float | len and lat as duple |\n"
   ]
  },
  {
   "cell_type": "markdown",
   "metadata": {},
   "source": [
    "### Weather"
   ]
  },
  {
   "cell_type": "code",
   "execution_count": null,
   "metadata": {},
   "outputs": [],
   "source": [
    "fname = 'data/GlobalLandTemperaturesByCity.csv'\n",
    "df_temperature = pd.read_csv(fname)\n",
    "\n",
    "# get only america as the immigrant data is only about america\n",
    "\n",
    "df_temperature_us = df_temperature[df_temperature[\"Country\"] == \"United States\"]\n",
    "print(df_temperature_us)\n",
    "print(len(df_temperature_us))"
   ]
  },
  {
   "cell_type": "code",
   "execution_count": null,
   "metadata": {},
   "outputs": [],
   "source": [
    "print('length:', len(df_temperature))\n",
    "df_temperature.count()"
   ]
  },
  {
   "cell_type": "markdown",
   "metadata": {},
   "source": [
    "### Weather data column descriptions\n",
    "\n",
    "| column name| description | type |personal observations for ETL | \n",
    "| --- | --- | --- | --- |\n",
    "|dt | date | string YYYY-MM-DD |  |\n",
    "|AverageTemperature | avg temp | float| check NAN |\n",
    "|AverageTemperatureUncertainty| temp uncertainty |float|check NAN, not important for now|\n",
    "|City||||\n",
    "|Country||||\n",
    "|Latidude| latitude|float \"54.06N\"| remove \"N\", parse to tuple?|\n",
    "|Longidute| longitude| float \"54.06E\"|remove \"E\", parse to tuple?|"
   ]
  }
 ],
 "metadata": {
  "interpreter": {
   "hash": "65360f6f284ccd2590f3f321b8d627767f505cf51b69ddbfb90b7423b7103c4f"
  },
  "kernelspec": {
   "display_name": "Python 3.9.7 64-bit ('playground': conda)",
   "language": "python",
   "name": "python3"
  },
  "language_info": {
   "codemirror_mode": {
    "name": "ipython",
    "version": 3
   },
   "file_extension": ".py",
   "mimetype": "text/x-python",
   "name": "python",
   "nbconvert_exporter": "python",
   "pygments_lexer": "ipython3",
   "version": "3.9.7"
  },
  "orig_nbformat": 4
 },
 "nbformat": 4,
 "nbformat_minor": 2
}
