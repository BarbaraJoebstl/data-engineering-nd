{
 "cells": [
  {
   "cell_type": "code",
   "execution_count": 2,
   "metadata": {},
   "outputs": [
    {
     "name": "stdout",
     "output_type": "stream",
     "text": [
      "2022-03-01 15:11:15 WARN  NativeCodeLoader:62 - Unable to load native-hadoop library for your platform... using builtin-java classes where applicable\n"
     ]
    },
    {
     "name": "stderr",
     "output_type": "stream",
     "text": [
      "Setting default log level to \"WARN\".\n",
      "To adjust logging level use sc.setLogLevel(newLevel). For SparkR, use setLogLevel(newLevel).\n"
     ]
    }
   ],
   "source": [
    "# Import PySpark\n",
    "from pyspark.sql import SparkSession\n",
    "\n",
    "#Create SparkSession\n",
    "spark = SparkSession.builder.appName(\"Capstone Analytics Samples\").getOrCreate()"
   ]
  },
  {
   "cell_type": "code",
   "execution_count": 3,
   "metadata": {},
   "outputs": [
    {
     "name": "stderr",
     "output_type": "stream",
     "text": [
      "                                                                                \r"
     ]
    }
   ],
   "source": [
    "fact_immigration = spark.read.parquet('tables/fact_immigration')\n",
    "dim_immigrant_person = spark.read.parquet('tables/dim_immigrant_person')\n",
    "dim_city = spark.read.parquet('tables/dim_city')\n",
    "dim_time = spark.read.parquet('tables/dim_time')"
   ]
  },
  {
   "cell_type": "markdown",
   "metadata": {},
   "source": [
    "Create tempory views for the queries"
   ]
  },
  {
   "cell_type": "code",
   "execution_count": 4,
   "metadata": {},
   "outputs": [],
   "source": [
    "fact_immigration.createOrReplaceTempView(\"fact_immigration_table\")\n",
    "dim_immigrant_person.createOrReplaceTempView(\"immigrant_table\")\n",
    "dim_city.createOrReplaceTempView(\"dim_city_table\")\n",
    "dim_time.createOrReplaceTempView(\"dim_time_table\")"
   ]
  },
  {
   "cell_type": "code",
   "execution_count": 29,
   "metadata": {},
   "outputs": [
    {
     "name": "stdout",
     "output_type": "stream",
     "text": [
      "+--------+\n",
      "|count(1)|\n",
      "+--------+\n",
      "|  219268|\n",
      "+--------+\n",
      "\n"
     ]
    },
    {
     "name": "stderr",
     "output_type": "stream",
     "text": [
      "                                                                                \r"
     ]
    }
   ],
   "source": [
    "spark.sql(\"\"\"\n",
    "    SELECT count(*) FROM fact_immigration_table\n",
    "\"\"\").show()"
   ]
  },
  {
   "cell_type": "markdown",
   "metadata": {},
   "source": [
    "Question: Do immigrants generally flock to cities with generally more immigrants?\n",
    "\n",
    "To answer this question, we combine the city demographics data with the immigration fact data and order it by foreign_borns."
   ]
  },
  {
   "cell_type": "code",
   "execution_count": 37,
   "metadata": {},
   "outputs": [
    {
     "name": "stderr",
     "output_type": "stream",
     "text": [
      "                                                                                \r"
     ]
    },
    {
     "name": "stdout",
     "output_type": "stream",
     "text": [
      "+-------+----------+---------------+----------+----------+---------------+----------------+------------+---------------------+----------+---------+\n",
      "|i94port|immigrants|      city_name|     state|median_age|male_population|total_population|foreign_born|average_householdsize|state_code|city_code|\n",
      "+-------+----------+---------------+----------+----------+---------------+----------------+------------+---------------------+----------+---------+\n",
      "|    NYC|     32779|       New York|  New York|      36.0|        4081698|         4468707|     8550405|             156961.0|   3212500|      NYC|\n",
      "|    LOS|     20983|    Los Angeles|California|      35.0|        1958998|         2012898|     3971896|              85417.0|   1485425|      LOS|\n",
      "|    CHI|     11823|        Chicago|  Illinois|      34.2|        1320015|         1400541|     2720556|              72042.0|    573463|      CHI|\n",
      "|    HOU|      7305|        Houston|     Texas|      32.6|        1149686|         1148942|     2298628|              71898.0|    696210|      HOU|\n",
      "|    SFR|     11056|  San Francisco|California|      38.3|         439752|          425064|      864816|              26276.0|    297199|      SFR|\n",
      "|    MIA|     22660|          Miami|   Florida|      40.4|         215840|          225149|      440989|               7233.0|    260789|      MIA|\n",
      "|    NEW|     10198|         Newark|New Jersey|      34.6|         138040|          143873|      281913|               5829.0|     86253|      NEW|\n",
      "|    ORL|     12332|        Orlando|   Florida|      33.1|         130940|          139977|      270917|              12782.0|     50558|      ORL|\n",
      "|    FTL|      8087|Fort Lauderdale|   Florida|      42.8|          93948|           84639|      178587|               8897.0|     47582|      FTL|\n",
      "+-------+----------+---------------+----------+----------+---------------+----------------+------------+---------------------+----------+---------+\n",
      "\n"
     ]
    }
   ],
   "source": [
    "spark.sql(\"\"\"\n",
    "    SELECT *\n",
    "    FROM\n",
    "        (SELECT DISTINCT\n",
    "            f.i94port, \n",
    "            COUNT(f.cicid) AS immigrants\n",
    "        FROM fact_immigration_table f\n",
    "        GROUP BY f.i94port\n",
    "        ORDER BY immigrants DESC\n",
    "        LIMIT 10\n",
    "        ) AS immigrants_by_port\n",
    "    JOIN dim_city_table c\n",
    "        ON immigrants_by_port.i94port = c.city_code\n",
    "    ORDER BY c.foreign_born DESC\n",
    "\"\"\").dropDuplicates().show()"
   ]
  }
 ],
 "metadata": {
  "interpreter": {
   "hash": "506d070d07e55b089eb1ed748d43572eb732affa4f37c1b712a8590be5eb960d"
  },
  "kernelspec": {
   "display_name": "Python 3.7.12 ('dend')",
   "language": "python",
   "name": "python3"
  },
  "language_info": {
   "codemirror_mode": {
    "name": "ipython",
    "version": 3
   },
   "file_extension": ".py",
   "mimetype": "text/x-python",
   "name": "python",
   "nbconvert_exporter": "python",
   "pygments_lexer": "ipython3",
   "version": "3.7.12"
  },
  "orig_nbformat": 4
 },
 "nbformat": 4,
 "nbformat_minor": 2
}
